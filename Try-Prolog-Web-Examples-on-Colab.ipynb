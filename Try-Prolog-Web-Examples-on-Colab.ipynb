{
  "nbformat": 4,
  "nbformat_minor": 0,
  "metadata": {
    "colab": {
      "name": "Try-Prolog-Web-Examples-on-Colab",
      "provenance": []
    },
    "kernelspec": {
      "name": "python3",
      "display_name": "Python 3"
    },
    "language_info": {
      "name": "python"
    }
  },
  "cells": [
    {
      "cell_type": "markdown",
      "source": [
        "Empty cell"
      ],
      "metadata": {
        "id": "7inSWJjW2mas"
      }
    }
  ]
}
